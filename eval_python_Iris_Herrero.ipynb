{
 "cells": [
  {
   "cell_type": "code",
   "execution_count": null,
   "metadata": {},
   "outputs": [],
   "source": [
    "import os"
   ]
  },
  {
   "cell_type": "code",
   "execution_count": null,
   "metadata": {},
   "outputs": [],
   "source": [
    "class Lectura: \n",
    "\n",
    "    \"\"\"Esta clase puede servir para abrir un archivo txt desde una ruta relativa. \n",
    "    \"\"\"\n",
    "\n",
    "\n",
    "    def __init__(self, ruta, fichero):                                              \n",
    "\n",
    "        self.ruta = ruta\n",
    "        self.fichero = fichero\n",
    "\n",
    "        \"\"\"esta función abre el archivo txt y lo muestra en pantalla\n",
    "        \"\"\"\n",
    "\n",
    "    def abrir_texto(self):\n",
    "\n",
    "\n",
    "        with open(f\"{self.ruta}/{self.fichero}\",'r', encoding = 'latin-1') as file: \n",
    "            fichero_txt =  (file.read())                                            \n",
    "            \n",
    "            return print( fichero_txt)                                              \n",
    "        \n",
    "        \"\"\"esta función lee las palabras que se ingresen en integer en la función \n",
    "        \"\"\"\n",
    "\n",
    "    def leer_palabras(self, numero_palabras):                                       \n",
    "        \n",
    "        if type(numero_palabras) == int: \n",
    "            \n",
    "            with open(f\"{self.ruta}/{self.fichero}\", 'r', encoding = 'latin-1') as file:\n",
    "                \n",
    "                archivo = file.read().split()\n",
    "                archivo_palabras = archivo[:numero_palabras]\n",
    "                archivo_palabras = ' '.join(archivo_palabras)\n",
    "            \n",
    "            return archivo_palabras\n",
    "        else:\n",
    "            return '¡Necesitamos un número entero!'\n",
    "\n",
    "        \"\"\"esta función debería leer las líneas que se le señalan desde el input, pero muestra ValueError: I/O operation on closed file\n",
    "        \"\"\"\n",
    "        \n",
    "    def leer_lineas(self):\n",
    "\n",
    "        with open(f\"{self.ruta}/{self.fichero}\", 'r', encoding = 'latin-1') as file:\n",
    "\n",
    "            lecturas_deseadas = (int(input('¿Cuántas líneas quieres leer?')))\n",
    "        \n",
    "        return file.readline(lecturas_deseadas)\n",
    "\n",
    "\n",
    "        \"\"\"esta función lee el libro íntegro, sin la introducción\n",
    "        \"\"\"\n",
    "\n",
    "    def solo_libro(self):\n",
    "\n",
    "\n",
    "        with open(f\"{self.ruta}/{self.fichero}\", 'r', encoding = 'latin-1') as file:\n",
    "            tomo = file.readlines()\n",
    "            libro_original = tomo[1780:74276]\n",
    "            juntar_lineas = ' '.join(libro_original)\n",
    "\n",
    "        print(juntar_lineas)\n"
   ]
  },
  {
   "cell_type": "code",
   "execution_count": null,
   "metadata": {},
   "outputs": [],
   "source": [
    "mi_ruta = \"data\" #variable con la ruta\n",
    "fichero = \"quijote.txt\" #variable con el archivo"
   ]
  },
  {
   "cell_type": "code",
   "execution_count": null,
   "metadata": {},
   "outputs": [],
   "source": [
    "siglo_de_oro = Lectura(mi_ruta, fichero) #guardando la clase en una variable"
   ]
  },
  {
   "cell_type": "code",
   "execution_count": null,
   "metadata": {},
   "outputs": [],
   "source": [
    "siglo_de_oro.leer_lineas()"
   ]
  },
  {
   "cell_type": "code",
   "execution_count": null,
   "metadata": {},
   "outputs": [],
   "source": [
    "siglo_de_oro.solo_libro()"
   ]
  },
  {
   "cell_type": "code",
   "execution_count": null,
   "metadata": {},
   "outputs": [],
   "source": [
    "siglo_de_oro.abrir_texto()"
   ]
  },
  {
   "cell_type": "code",
   "execution_count": null,
   "metadata": {},
   "outputs": [],
   "source": [
    "siglo_de_oro.leer_palabras(8)"
   ]
  }
 ],
 "metadata": {
  "kernelspec": {
   "display_name": "base",
   "language": "python",
   "name": "python3"
  },
  "language_info": {
   "codemirror_mode": {
    "name": "ipython",
    "version": 3
   },
   "file_extension": ".py",
   "mimetype": "text/x-python",
   "name": "python",
   "nbconvert_exporter": "python",
   "pygments_lexer": "ipython3",
   "version": "3.9.7"
  },
  "orig_nbformat": 4
 },
 "nbformat": 4,
 "nbformat_minor": 2
}
